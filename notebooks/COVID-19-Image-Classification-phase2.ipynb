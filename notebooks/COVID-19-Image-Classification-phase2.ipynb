{
 "cells": [
  {
   "cell_type": "markdown",
   "metadata": {},
   "source": [
    "# Covid19 Image Classification - Phase 2  \n",
    "\n",
    "__Abstract:__ Our Aim is to detect Covid19 from chest X-rays. The covid19 image dataset is small with 251 training and 60 test images belonging to 'NoFinding', 'Covid19' and 'Pneumonia' respectively. This dataset small and is insufficient to generalize. So for the purpoe of our project, in Phase-I we will first use NIH X-ray image data to retrain and finetune pretrained model architecture such as ResNet50V2, MobileNetV2 and VGG16.\n",
    "\n",
    "Following the results from phase 1, we selected the best model to be ______ and in phase2 we will focus on classifing our target dataset of covid images"
   ]
  },
  {
   "cell_type": "code",
   "execution_count": null,
   "metadata": {},
   "outputs": [],
   "source": [
    "# common imports\n",
    "import os\n",
    "import numpy as np\n",
    "import matplotlib.pylab as plt\n",
    "import pandas as pd\n",
    "from glob import glob\n",
    "from pathlib import Path\n",
    "from functools import partial\n",
    "\n",
    "from sklearn.model_selection import train_test_split\n",
    "\n",
    "os.environ[\"TF_CPP_MIN_LOG_LEVEL\"] = \"2\"\n",
    "# prevent VRAM occupied\n",
    "os.environ['TF_FORCE_GPU_ALLOW_GROWTH'] = 'true'\n",
    "\n",
    "# TensorFlow ≥2.0 is required\n",
    "import tensorflow as tf\n",
    "from tensorflow import keras\n",
    "assert tf.__version__ >= \"2.0\"\n",
    "\n",
    "from keras.applications.resnet_v2 import preprocess_input\n",
    "from keras.preprocessing.image import ImageDataGenerator"
   ]
  },
  {
   "cell_type": "code",
   "execution_count": null,
   "metadata": {},
   "outputs": [],
   "source": [
    "#change working directory  - as the images are located in data/raw in the project folder (Execute this cell Once)\n",
    "os.chdir(\"../\")"
   ]
  },
  {
   "cell_type": "code",
   "execution_count": null,
   "metadata": {},
   "outputs": [],
   "source": [
    "# Import functions for trianing the model\n",
    "%load_ext autoreload\n",
    "%autoreload 2\n",
    "import src.models.train_model as train_model\n",
    "\n",
    "# load tensorboard extension\n",
    "%reload_ext tensorboard"
   ]
  },
  {
   "cell_type": "code",
   "execution_count": null,
   "metadata": {},
   "outputs": [],
   "source": [
    "# Constants\n",
    "SEED =42\n",
    "IMAGE_SIZE = (224,224)\n",
    "IMAGE_SHAPE = (224,224,3)\n",
    "BATCH_SIZE = 32\n",
    "SHUFFLE = True\n",
    "TARGET_WIDTH= 224\n",
    "TARGET_HEGIHT =224\n",
    "NUM_CLASSES = 3 # number of ClassesNUM\n",
    "NUM_EPOCHS = 10\n",
    "log_folder = 'logs' # logs folder"
   ]
  },
  {
   "cell_type": "markdown",
   "metadata": {},
   "source": [
    "## Preprocess Images"
   ]
  },
  {
   "cell_type": "code",
   "execution_count": null,
   "metadata": {},
   "outputs": [],
   "source": [
    "BATCH_SIZE =1\n",
    "\n",
    "covid_image_train_data_gen = ImageDataGenerator(\n",
    "    preprocessing_function= preprocess_input,\n",
    "    validation_split=0.2,\n",
    "    featurewise_center=False,  # set input mean to 0 over the dataset\n",
    "    samplewise_center=True, #Boolean. Set each sample mean to 0.\n",
    "    samplewise_std_normalization = False, #Boolean. Divide each input by its std.\n",
    "    featurewise_std_normalization=False, # divide inputs by std of the dataset\n",
    "    horizontal_flip = True, #Boolean. Randomly flip inputs horizontally.\n",
    "    vertical_flip = False,  #Boolean. Randomly flip inputs vertically.\n",
    "    zca_whitening=False,  # apply ZCA whitening\n",
    "    height_shift_range= 0.05, #float: fraction of total height, if < 1, or pixels if >= 1.\n",
    "    width_shift_range=0.1,  #float: fraction of total height, if < 1, or pixels if >= 1.\n",
    "    rotation_range=20, #Int. Degree range for random rotations. 0 -180 degrees\n",
    "    shear_range = 0.1, #Float. Shear Intensity (Shear angle in counter-clockwise direction in degrees)\n",
    "    fill_mode = 'nearest', #One of {\"constant\", \"nearest\", \"reflect\" or \"wrap\"}. Default is 'nearest'. \n",
    "    zoom_range=0.15) #Float or [lower, upper]. Range for random zoom. If a float, [lower, upper] = [1-zoom_range, 1+zoom_range]\n",
    "\n",
    "\n",
    "covid_image_test_data_gen = ImageDataGenerator(\n",
    "    preprocessing_function= preprocess_input,\n",
    "    featurewise_center=False,  # set input mean to 0 over the dataset\n",
    "    samplewise_center=True, #Boolean. Set each sample mean to 0.\n",
    "    samplewise_std_normalization = False, #Boolean. Divide each input by its std.\n",
    "    featurewise_std_normalization=False, # divide inputs by std of the dataset\n",
    "    horizontal_flip = True, #Boolean. Randomly flip inputs horizontally.\n",
    "    vertical_flip = False,  #Boolean. Randomly flip inputs vertically.\n",
    "    zca_whitening=False,  # apply ZCA whitening\n",
    "    height_shift_range= 0.05, #float: fraction of total height, if < 1, or pixels if >= 1.\n",
    "    width_shift_range=0.1,  #float: fraction of total height, if < 1, or pixels if >= 1.\n",
    "    rotation_range=20, #Int. Degree range for random rotations. 0 -180 degrees\n",
    "    shear_range = 0.1, #Float. Shear Intensity (Shear angle in counter-clockwise direction in degrees)\n",
    "    fill_mode = 'nearest', #One of {\"constant\", \"nearest\", \"reflect\" or \"wrap\"}. Default is 'nearest'. \n",
    "    zoom_range=0.15) #Float or [lower, upper]. Range for random zoom. If a float, [lower, upper] = [1-zoom_range, 1+zoom_range]\n",
    "\n",
    "\n",
    "\n",
    "\n",
    "covid_train_generator = covid_image_train_data_gen.flow_from_directory(\n",
    "  'data/raw/Covid19-dataset/train',\n",
    "  subset=\"training\",\n",
    "  class_mode='categorical',\n",
    "  classes=['Covid', 'Normal', 'Viral Pneumonia'],\n",
    "  seed=SEED,\n",
    "  target_size=IMAGE_SIZE,\n",
    "  batch_size=BATCH_SIZE)\n",
    "\n",
    "covid_valid_generator = covid_image_train_data_gen.flow_from_directory(\n",
    "  'data/raw/Covid19-dataset/train/',\n",
    "  subset=\"validation\",\n",
    "  classes=['Covid', 'Normal', 'Viral Pneumonia'],\n",
    "  class_mode='categorical',\n",
    "  seed=SEED,\n",
    "  target_size=IMAGE_SIZE,\n",
    "  batch_size=BATCH_SIZE)\n",
    "\n",
    "covid_test_generator = covid_image_test_data_gen.flow_from_directory(\n",
    "  'data/raw/Covid19-dataset/test/',\n",
    "  class_mode='categorical',\n",
    "  classes=['Covid', 'Normal', 'Viral Pneumonia'],\n",
    "  seed=SEED,\n",
    "  target_size=IMAGE_SIZE,\n",
    "  batch_size=BATCH_SIZE)"
   ]
  },
  {
   "cell_type": "markdown",
   "metadata": {},
   "source": [
    "## Reload and train the Saved Model"
   ]
  },
  {
   "cell_type": "code",
   "execution_count": null,
   "metadata": {},
   "outputs": [],
   "source": [
    "freeze_layers = True\n",
    "model_name = \"Best Model\"\n",
    "num_classes =15\n",
    "activation ='softmax'\n",
    "learning_rate = 0.01\n",
    "ft_learning_rate= 0.0001\n",
    "fine_tune_at_layer = 186\n",
    "\n",
    "# It can be used to reconstruct the model identically.\n",
    "reconstructed_model = keras.models.load_model(\"models/my-model\")\n",
    "new_layer = reconstructed_model.layers[-2].output\n",
    "output = keras.layers.Dense(NUM_CLASSES, activation='softmax')(new_layer)\n",
    "new_model = keras.Model(inputs = reconstructed_model.input, outputs = output)\n",
    "new_model = train_model.compile_classifier(new_model, learning_rate)\n",
    "new_model_history = train_model.fit_model(new_model, covid_train_generator, covid_valid_generator,num_epochs=NUM_EPOCHS,batch_size=BATCH_SIZE)\n",
    "\n",
    "print(f'{model_name} Accuracy and Loss plots')\n",
    "train_model.plot_accuracy_and_loss(new_model_history)\n",
    "\n",
    "\n",
    "print(\"\\n\")\n",
    "#fine_tune model_name\n",
    "new_model_ft = train_model.fine_tune_model(new_model,ft_learning_rate,optimizer='Adam',fine_tune_at_layer=fine_tune_at_layer)\n",
    "    \n",
    "print(\"\\n\")\n",
    "print(f'Fine-Tuned {model_name} Training and Validation: ')\n",
    "new_model_ft_history = train_model.fit_model(new_model_ft, covid_train_generator, \n",
    "        covid_valid_generator, \n",
    "        num_epochs=NUM_EPOCHS,batch_size=BATCH_SIZE)\n",
    "\n",
    "print(f'Fine-Tuned {model_name} Accuracy and Loss plots')\n",
    "train_model.plot_accuracy_and_loss(new_model_ft_history)"
   ]
  },
  {
   "cell_type": "code",
   "execution_count": null,
   "metadata": {},
   "outputs": [],
   "source": []
  }
 ],
 "metadata": {
  "interpreter": {
   "hash": "916dbcbb3f70747c44a77c7bcd40155683ae19c65e1c03b4aa3499c5328201f1"
  },
  "kernelspec": {
   "display_name": "Python 3.8.10 64-bit",
   "language": "python",
   "name": "python3"
  },
  "language_info": {
   "codemirror_mode": {
    "name": "ipython",
    "version": 3
   },
   "file_extension": ".py",
   "mimetype": "text/x-python",
   "name": "python",
   "nbconvert_exporter": "python",
   "pygments_lexer": "ipython3",
   "version": "3.9.7"
  },
  "orig_nbformat": 4
 },
 "nbformat": 4,
 "nbformat_minor": 2
}
